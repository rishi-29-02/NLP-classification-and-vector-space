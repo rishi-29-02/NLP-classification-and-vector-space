{
  "nbformat": 4,
  "nbformat_minor": 0,
  "metadata": {
    "colab": {
      "name": "Vector Space models.ipynb",
      "provenance": [],
      "collapsed_sections": []
    },
    "kernelspec": {
      "name": "python3",
      "display_name": "Python 3"
    },
    "language_info": {
      "name": "python"
    }
  },
  "cells": [
    {
      "cell_type": "markdown",
      "metadata": {
        "id": "wcxdYFYnfsct"
      },
      "source": [
        "# Natural Language Processing with calssification and vector spaces"
      ]
    },
    {
      "cell_type": "markdown",
      "metadata": {
        "id": "VIpmdQb2f2yO"
      },
      "source": [
        "## Word Embeddings : Predict the countries from capitals"
      ]
    },
    {
      "cell_type": "code",
      "metadata": {
        "id": "NYd45o96f930"
      },
      "source": [
        "import pickle\n",
        "import numpy as np\n",
        "import pandas as pd\n",
        "import matplotlib.pyplot as plt"
      ],
      "execution_count": null,
      "outputs": []
    },
    {
      "cell_type": "code",
      "metadata": {
        "id": "0bE-2ljDgYy-"
      },
      "source": [
        "# Load the dataset\n",
        "#from google.colab import files\n",
        "#uploaded = files.upload()"
      ],
      "execution_count": null,
      "outputs": []
    },
    {
      "cell_type": "code",
      "metadata": {
        "colab": {
          "base_uri": "https://localhost:8080/",
          "height": 204
        },
        "id": "I87Ds4qMgmYe",
        "outputId": "19a1e909-9c05-4f0f-96d1-03eab00e9a41"
      },
      "source": [
        "data = pd.read_csv('capitals.txt', delimiter=' ')\n",
        "data.columns = ['City1', 'Country1', 'City2', 'Country2']\n",
        "data.head()"
      ],
      "execution_count": null,
      "outputs": [
        {
          "output_type": "execute_result",
          "data": {
            "text/html": [
              "<div>\n",
              "<style scoped>\n",
              "    .dataframe tbody tr th:only-of-type {\n",
              "        vertical-align: middle;\n",
              "    }\n",
              "\n",
              "    .dataframe tbody tr th {\n",
              "        vertical-align: top;\n",
              "    }\n",
              "\n",
              "    .dataframe thead th {\n",
              "        text-align: right;\n",
              "    }\n",
              "</style>\n",
              "<table border=\"1\" class=\"dataframe\">\n",
              "  <thead>\n",
              "    <tr style=\"text-align: right;\">\n",
              "      <th></th>\n",
              "      <th>City1</th>\n",
              "      <th>Country1</th>\n",
              "      <th>City2</th>\n",
              "      <th>Country2</th>\n",
              "    </tr>\n",
              "  </thead>\n",
              "  <tbody>\n",
              "    <tr>\n",
              "      <th>0</th>\n",
              "      <td>Athens</td>\n",
              "      <td>Greece</td>\n",
              "      <td>Bangkok</td>\n",
              "      <td>Thailand</td>\n",
              "    </tr>\n",
              "    <tr>\n",
              "      <th>1</th>\n",
              "      <td>Athens</td>\n",
              "      <td>Greece</td>\n",
              "      <td>Beijing</td>\n",
              "      <td>China</td>\n",
              "    </tr>\n",
              "    <tr>\n",
              "      <th>2</th>\n",
              "      <td>Athens</td>\n",
              "      <td>Greece</td>\n",
              "      <td>Berlin</td>\n",
              "      <td>Germany</td>\n",
              "    </tr>\n",
              "    <tr>\n",
              "      <th>3</th>\n",
              "      <td>Athens</td>\n",
              "      <td>Greece</td>\n",
              "      <td>Bern</td>\n",
              "      <td>Switzerland</td>\n",
              "    </tr>\n",
              "    <tr>\n",
              "      <th>4</th>\n",
              "      <td>Athens</td>\n",
              "      <td>Greece</td>\n",
              "      <td>Cairo</td>\n",
              "      <td>Egypt</td>\n",
              "    </tr>\n",
              "  </tbody>\n",
              "</table>\n",
              "</div>"
            ],
            "text/plain": [
              "    City1 Country1    City2     Country2\n",
              "0  Athens   Greece  Bangkok     Thailand\n",
              "1  Athens   Greece  Beijing        China\n",
              "2  Athens   Greece   Berlin      Germany\n",
              "3  Athens   Greece     Bern  Switzerland\n",
              "4  Athens   Greece    Cairo        Egypt"
            ]
          },
          "metadata": {
            "tags": []
          },
          "execution_count": 4
        }
      ]
    },
    {
      "cell_type": "code",
      "metadata": {
        "colab": {
          "base_uri": "https://localhost:8080/"
        },
        "id": "ymNGaw8lu-4F",
        "outputId": "d28232fe-3d57-4ddf-81df-ba56032c3d1a"
      },
      "source": [
        "data.shape"
      ],
      "execution_count": null,
      "outputs": [
        {
          "output_type": "execute_result",
          "data": {
            "text/plain": [
              "(4951, 4)"
            ]
          },
          "metadata": {
            "tags": []
          },
          "execution_count": 5
        }
      ]
    },
    {
      "cell_type": "markdown",
      "metadata": {
        "id": "JoRiVy5NhsB2"
      },
      "source": [
        "In the real world, you can always load the trained word vectors, and you will almost never have to train them from scratch."
      ]
    },
    {
      "cell_type": "markdown",
      "metadata": {
        "id": "Rom4ivDkjKYE"
      },
      "source": [
        "**Word Embedding**"
      ]
    },
    {
      "cell_type": "code",
      "metadata": {
        "colab": {
          "base_uri": "https://localhost:8080/"
        },
        "id": "t96FwZc0hBG7",
        "outputId": "0477beb7-bbe1-4449-9265-cbd663b67a8e"
      },
      "source": [
        "word_embeddings = pickle.load((open('word_embeddings_subset.p', 'rb')))\n",
        "len(word_embeddings)"
      ],
      "execution_count": null,
      "outputs": [
        {
          "output_type": "execute_result",
          "data": {
            "text/plain": [
              "243"
            ]
          },
          "metadata": {
            "tags": []
          },
          "execution_count": 6
        }
      ]
    },
    {
      "cell_type": "code",
      "metadata": {
        "colab": {
          "base_uri": "https://localhost:8080/"
        },
        "id": "6qLhpLfPhZWF",
        "outputId": "0fcada72-6e83-4cf1-9fa6-c7b6ada4821e"
      },
      "source": [
        "# dimension of each word Embedding\n",
        "word_embeddings['Spain'].shape[0]"
      ],
      "execution_count": null,
      "outputs": [
        {
          "output_type": "execute_result",
          "data": {
            "text/plain": [
              "300"
            ]
          },
          "metadata": {
            "tags": []
          },
          "execution_count": 7
        }
      ]
    },
    {
      "cell_type": "markdown",
      "metadata": {
        "id": "PbQZM8M6jFqA"
      },
      "source": [
        "**Cosine Similarity**"
      ]
    },
    {
      "cell_type": "code",
      "metadata": {
        "id": "3sAGqQ5DhxmQ"
      },
      "source": [
        "def cosine_similarity(A, B):\n",
        "  num = np.dot(A, B)\n",
        "  den = np.linalg.norm(A) * np.linalg.norm(B)\n",
        "  return num/den"
      ],
      "execution_count": null,
      "outputs": []
    },
    {
      "cell_type": "code",
      "metadata": {
        "colab": {
          "base_uri": "https://localhost:8080/"
        },
        "id": "SDaJCcUlio9_",
        "outputId": "6d96a0af-2d5b-4df0-e4e6-d89a18aedf51"
      },
      "source": [
        "# Testing the function \n",
        "king = word_embeddings['king']\n",
        "queen = word_embeddings['queen']\n",
        "\n",
        "cosine_similarity(king, queen)"
      ],
      "execution_count": null,
      "outputs": [
        {
          "output_type": "execute_result",
          "data": {
            "text/plain": [
              "0.6510956"
            ]
          },
          "metadata": {
            "tags": []
          },
          "execution_count": 9
        }
      ]
    },
    {
      "cell_type": "markdown",
      "metadata": {
        "id": "jcgFtzq8jRyf"
      },
      "source": [
        "**Euclidean Distance**"
      ]
    },
    {
      "cell_type": "code",
      "metadata": {
        "id": "rV2AhFuki0TS"
      },
      "source": [
        "def euclidean(A, B):\n",
        "  res = np.linalg.norm(A-B)\n",
        "  return res"
      ],
      "execution_count": null,
      "outputs": []
    },
    {
      "cell_type": "code",
      "metadata": {
        "id": "xKxrwqCRjeBt",
        "colab": {
          "base_uri": "https://localhost:8080/"
        },
        "outputId": "11836759-2e65-43a6-a300-5d4006a138fc"
      },
      "source": [
        "# Testing the function\n",
        "euclidean(king, queen)"
      ],
      "execution_count": null,
      "outputs": [
        {
          "output_type": "execute_result",
          "data": {
            "text/plain": [
              "2.4796925"
            ]
          },
          "metadata": {
            "tags": []
          },
          "execution_count": 11
        }
      ]
    },
    {
      "cell_type": "markdown",
      "metadata": {
        "id": "aK1xooemq4Ka"
      },
      "source": [
        "**Finding the country with capital**"
      ]
    },
    {
      "cell_type": "code",
      "metadata": {
        "id": "gRsS0P-MrVy2"
      },
      "source": [
        "def get_country(city1, country1, city2, word_embeddings):\n",
        "  group = set((city1, country1, city2))\n",
        "\n",
        "  city1_emb = word_embeddings[city1]\n",
        "  country1_emb = word_embeddings[country1]\n",
        "  city2_emb = word_embeddings[city2]\n",
        "\n",
        "  similarity = -1\n",
        "\n",
        "  # get embedding of country 2\n",
        "  vec= country1_emb - city1_emb + city2_emb\n",
        "\n",
        "  country = ''\n",
        "\n",
        "  for word in word_embeddings.keys():\n",
        "    if word not in group:\n",
        "      word_emb = word_embeddings[word]\n",
        "\n",
        "      # calculate the similarities\n",
        "      c_similarity = cosine_similarity(vec, word_emb)\n",
        "\n",
        "      if c_similarity > similarity:\n",
        "        similarity = c_similarity\n",
        "        country = (word, similarity)\n",
        "  return country"
      ],
      "execution_count": null,
      "outputs": []
    },
    {
      "cell_type": "code",
      "metadata": {
        "colab": {
          "base_uri": "https://localhost:8080/"
        },
        "id": "SIRwIgi6uQOM",
        "outputId": "70f734aa-eca6-409a-f67a-4fe1eb9bdb78"
      },
      "source": [
        "# Testing the function\n",
        "get_country('Athens', 'Greece', 'Cairo', word_embeddings)"
      ],
      "execution_count": null,
      "outputs": [
        {
          "output_type": "execute_result",
          "data": {
            "text/plain": [
              "('Egypt', 0.7626821)"
            ]
          },
          "metadata": {
            "tags": []
          },
          "execution_count": 13
        }
      ]
    },
    {
      "cell_type": "markdown",
      "metadata": {
        "id": "jpy95wjUuZtj"
      },
      "source": [
        "**Model Accuracy**"
      ]
    },
    {
      "cell_type": "code",
      "metadata": {
        "id": "wf11SEyvvISp"
      },
      "source": [
        "def get_accuracy(word_embeddings, data):\n",
        "  num_correct = 0\n",
        "  for i, row in data.iterrows():\n",
        "    city1 = row['City1']\n",
        "    country1 = row['Country1']\n",
        "    city2 = row['City2']\n",
        "\n",
        "    pred_country2, _ = get_country(city1, country1, city2, word_embeddings)\n",
        "\n",
        "    if pred_country2 == row['Country2']:\n",
        "      num_correct+=1\n",
        "    \n",
        "    accurcay = num_correct/len(data)\n",
        "  \n",
        "  return accurcay"
      ],
      "execution_count": null,
      "outputs": []
    },
    {
      "cell_type": "code",
      "metadata": {
        "colab": {
          "base_uri": "https://localhost:8080/"
        },
        "id": "h22d65lywd7w",
        "outputId": "25e8813b-550d-4f47-aaad-29267c4a40e7"
      },
      "source": [
        "# Testing the function\n",
        "accuracy = get_accuracy(word_embeddings, data)\n",
        "print('The accurcay of the model comes to be :%0.2f'%accuracy)"
      ],
      "execution_count": null,
      "outputs": [
        {
          "output_type": "stream",
          "text": [
            "The accurcay of the model comes to be :0.92\n"
          ],
          "name": "stdout"
        }
      ]
    },
    {
      "cell_type": "markdown",
      "metadata": {
        "id": "11vTqwL7xGSo"
      },
      "source": [
        "##Plotting the vectores using PCA"
      ]
    },
    {
      "cell_type": "markdown",
      "metadata": {
        "id": "Fyc_dSDjj79g"
      },
      "source": [
        "The steps to compute PCA are as follows:\n",
        "\n",
        "1. Mean normalize the data\n",
        "\n",
        "2. Compute the covariance matrix of your data ($\\Sigma$).\n",
        "\n",
        "3. Compute the eigenvectors and the eigenvalues of your covariance matrix\n",
        "\n",
        "4. Multiply the first K eigenvectors by your normalized data"
      ]
    },
    {
      "cell_type": "code",
      "metadata": {
        "id": "wfRXnSneVsiB"
      },
      "source": [
        "def compute_pca(X, n_components=2):\n",
        "\n",
        "  # mean center the data\n",
        "  X_demeaned = X - np.mean(X, axis=0)\n",
        "\n",
        "  # calculate the covarirance matrix\n",
        "  covariance_matrix = np.cov(X_demeaned, rowvar=False)\n",
        "\n",
        "  # calculate eigenvectors & eigenvalues of the covariance matrix\n",
        "  eigen_vals, eigen_vecs = np.linalg.eigh(covariance_matrix, UPLO='L') \n",
        "\n",
        "  # sort the eigen values \n",
        "  idx_sorted = np.argsort(eigen_vals)\n",
        "  \n",
        "  # sort the eigen values from highest to lowest\n",
        "  idx_sorted = idx_sorted[::-1]\n",
        "  \n",
        "  # sort the eigen values by index_sort\n",
        "  eigen_values_sorted = eigen_vals[idx_sorted]\n",
        "\n",
        "  # sort the eigen vectors\n",
        "  sorted_eigen_vecs = eigen_vecs[:, idx_sorted]\n",
        "\n",
        "  eigen_vec_subset = sorted_eigen_vecs[:, 0:n_components]\n",
        "  \n",
        "  X_reduced = np.dot(eigen_vec_subset.T, X_demeaned.T).T\n",
        "\n",
        "  return X_reduced"
      ],
      "execution_count": null,
      "outputs": []
    },
    {
      "cell_type": "code",
      "metadata": {
        "colab": {
          "base_uri": "https://localhost:8080/"
        },
        "id": "wx8ZmeRvV1Lm",
        "outputId": "f1906553-c1c2-47f9-ab58-58983e90f23a"
      },
      "source": [
        "np.random.seed(1)\n",
        "X = np.random.rand(3, 10)\n",
        "#print(X)\n",
        "X_reduced = compute_pca(X, n_components=2)\n",
        "#print('The reduced X : \\n', X_reduced)\n",
        "print(\"Your original matrix was \" + str(X.shape) + \" and it became:\")\n",
        "print(X_reduced)\n"
      ],
      "execution_count": null,
      "outputs": [
        {
          "output_type": "stream",
          "text": [
            "Your original matrix was (3, 10) and it became:\n",
            "[[ 0.43437323  0.49820384]\n",
            " [ 0.42077249 -0.50351448]\n",
            " [-0.85514571  0.00531064]]\n"
          ],
          "name": "stdout"
        }
      ]
    },
    {
      "cell_type": "code",
      "metadata": {
        "id": "sLkv1EIRV_9T"
      },
      "source": [
        "def get_vectors(embeddings, words):\n",
        "  \n",
        "    m = len(words)\n",
        "    X = np.zeros((1, 300))\n",
        "    for word in words:\n",
        "        english = word\n",
        "        eng_emb = embeddings[english]\n",
        "        X = np.row_stack((X, eng_emb))\n",
        "    X = X[1:,:]\n",
        "    return X"
      ],
      "execution_count": null,
      "outputs": []
    },
    {
      "cell_type": "code",
      "metadata": {
        "colab": {
          "base_uri": "https://localhost:8080/"
        },
        "id": "40JIufrsNXFo",
        "outputId": "eb0452d0-943d-4e8b-8ea2-c57a87d4628b"
      },
      "source": [
        "words = ['oil', 'gas', 'happy', 'sad', 'city', 'town',\n",
        "         'village', 'country', 'continent', 'petroleum', 'joyful']\n",
        "\n",
        "# given a list of words and the embeddings, it returns a matrix with all the embeddings\n",
        "X = get_vectors(word_embeddings, words)\n",
        "\n",
        "print('You have 11 words each of 300 dimensions thus X.shape is:', X.shape)"
      ],
      "execution_count": null,
      "outputs": [
        {
          "output_type": "stream",
          "text": [
            "You have 11 words each of 300 dimensions thus X.shape is: (11, 300)\n"
          ],
          "name": "stdout"
        }
      ]
    },
    {
      "cell_type": "code",
      "metadata": {
        "id": "6PMeESavNaD3",
        "colab": {
          "base_uri": "https://localhost:8080/",
          "height": 269
        },
        "outputId": "860e6fc2-bf4a-4b40-b2f1-613350fad382"
      },
      "source": [
        "result = compute_pca(X, 2)\n",
        "plt.scatter(result[:, 0], result[:, 1])\n",
        "for i, word in enumerate(words):\n",
        "    plt.annotate(word, xy=(result[i, 0] - 0.05, result[i, 1] + 0.1))\n",
        "\n",
        "plt.show()"
      ],
      "execution_count": null,
      "outputs": [
        {
          "output_type": "display_data",
          "data": {
            "image/png": "[encoded data removed]",
            "text/plain": [
              "<Figure size 432x288 with 1 Axes>"
            ]
          },
          "metadata": {
            "tags": [],
            "needs_background": "light"
          }
        }
      ]
    }
  ]
}